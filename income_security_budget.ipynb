{
 "cells": [
  {
   "cell_type": "markdown",
   "metadata": {},
   "source": [
    "# Income Security Package - 2026 Budget Impact"
   ]
  },
  {
   "cell_type": "code",
   "execution_count": 1,
   "metadata": {
    "execution": {
     "iopub.execute_input": "2025-09-23T15:41:10.742296Z",
     "iopub.status.busy": "2025-09-23T15:41:10.742296Z",
     "iopub.status.idle": "2025-09-23T15:41:33.080470Z",
     "shell.execute_reply": "2025-09-23T15:41:33.080470Z"
    }
   },
   "outputs": [],
   "source": [
    "from policyengine_us import Microsimulation\n",
    "from policyengine_core.reforms import Reform\n",
    "from policyengine_us.reforms.congress.tlaib.income_security_package import income_security_package"
   ]
  },
  {
   "cell_type": "markdown",
   "metadata": {},
   "source": [
    "## Setup and Define Reforms"
   ]
  },
  {
   "cell_type": "code",
   "execution_count": 2,
   "metadata": {
    "execution": {
     "iopub.execute_input": "2025-09-23T15:41:33.083482Z",
     "iopub.status.busy": "2025-09-23T15:41:33.083482Z",
     "iopub.status.idle": "2025-09-23T15:41:33.086529Z",
     "shell.execute_reply": "2025-09-23T15:41:33.086529Z"
    }
   },
   "outputs": [],
   "source": [
    "# NOTE: Currently the income_security_package reform auto-sets in_effect=True for all programs\n",
    "# This is a temporary solution - standard pattern would be to set parameters in notebook\n",
    "# TODO: Update to follow standard contrib reform pattern"
   ]
  },
  {
   "cell_type": "code",
   "execution_count": 3,
   "metadata": {
    "execution": {
     "iopub.execute_input": "2025-09-23T15:41:33.089535Z",
     "iopub.status.busy": "2025-09-23T15:41:33.088538Z",
     "iopub.status.idle": "2025-09-23T15:41:54.548154Z",
     "shell.execute_reply": "2025-09-23T15:41:54.548154Z"
    }
   },
   "outputs": [
    {
     "name": "stdout",
     "output_type": "stream",
     "text": [
      "2026 Program Component Costs:\n",
      "============================================================\n",
      "Baby Bonus payments:              $7.2 billion\n",
      "BOOST payments:                   $637.3 billion\n",
      "ECPA child benefits:              $436.2 billion\n",
      "ECPA filer credits:               $50.8 billion\n",
      "ECPA adult dependent credits:     $7.9 billion\n",
      "------------------------------------------------------------\n",
      "Total program costs:              $1139.4 billion\n",
      "\n",
      "Revenue Offsets:\n",
      "============================================================\n",
      "BOOST tax revenue:                $278.2 billion\n",
      "CTC savings (replaced by ECPA):   $140.5 billion\n",
      "EITC savings (replaced by ECPA):  $50.4 billion\n",
      "------------------------------------------------------------\n",
      "Total revenue/savings:            $469.1 billion\n"
     ]
    }
   ],
   "source": [
    "# Create baseline and reformed simulations\n",
    "baseline = Microsimulation()\n",
    "reformed = Microsimulation(reform=income_security_package)  # Full package with all programs active\n",
    "year = 2026\n",
    "\n",
    "# Calculate each program component in the reform\n",
    "baby_bonus = reformed.calculate(\"baby_bonus\", period=year).sum() / 1e9\n",
    "boost_payment = reformed.calculate(\"boost_payment\", period=year).sum() / 1e9\n",
    "boost_tax = reformed.calculate(\"boost_tax\", period=year).sum() / 1e9\n",
    "ecpa_child = reformed.calculate(\"ecpa_child_benefit\", period=year).sum() / 1e9\n",
    "ecpa_filer = reformed.calculate(\"ecpa_filer_credit\", period=year).sum() / 1e9  \n",
    "ecpa_adult_dep = reformed.calculate(\"ecpa_adult_dependent_credit\", period=year).sum() / 1e9\n",
    "\n",
    "# CTC and EITC are removed from tax credit totals but still calculated\n",
    "# The reform excludes them from being applied, not from being calculated\n",
    "# So the \"savings\" is effectively the value of these credits that would have been applied\n",
    "baseline_ctc = baseline.calculate(\"ctc\", period=year).sum() / 1e9\n",
    "baseline_eitc = baseline.calculate(\"eitc\", period=year).sum() / 1e9\n",
    "\n",
    "# In the reform, ECPA replaces CTC and EITC\n",
    "# The savings equal the baseline amounts since they're no longer applied\n",
    "ctc_savings = baseline_ctc  # Full CTC amount becomes savings\n",
    "eitc_savings = baseline_eitc  # Full EITC amount becomes savings\n",
    "\n",
    "print(\"2026 Program Component Costs:\")\n",
    "print(\"=\"*60)\n",
    "print(f\"Baby Bonus payments:              ${baby_bonus:.1f} billion\")\n",
    "print(f\"BOOST payments:                   ${boost_payment:.1f} billion\") \n",
    "print(f\"ECPA child benefits:              ${ecpa_child:.1f} billion\")\n",
    "print(f\"ECPA filer credits:               ${ecpa_filer:.1f} billion\")\n",
    "print(f\"ECPA adult dependent credits:     ${ecpa_adult_dep:.1f} billion\")\n",
    "print(\"-\"*60)\n",
    "print(f\"Total program costs:              ${baby_bonus + boost_payment + ecpa_child + ecpa_filer + ecpa_adult_dep:.1f} billion\")\n",
    "\n",
    "print(\"\\nRevenue Offsets:\")\n",
    "print(\"=\"*60)\n",
    "print(f\"BOOST tax revenue:                ${boost_tax:.1f} billion\")\n",
    "print(f\"CTC savings (replaced by ECPA):   ${ctc_savings:.1f} billion\")\n",
    "print(f\"EITC savings (replaced by ECPA):  ${eitc_savings:.1f} billion\")\n",
    "print(\"-\"*60)\n",
    "print(f\"Total revenue/savings:            ${boost_tax + ctc_savings + eitc_savings:.1f} billion\")"
   ]
  },
  {
   "cell_type": "markdown",
   "metadata": {},
   "source": [
    "## Net Budget Impact"
   ]
  },
  {
   "cell_type": "code",
   "execution_count": 4,
   "metadata": {
    "execution": {
     "iopub.execute_input": "2025-09-23T15:41:54.583263Z",
     "iopub.status.busy": "2025-09-23T15:41:54.583263Z",
     "iopub.status.idle": "2025-09-23T15:41:54.587622Z",
     "shell.execute_reply": "2025-09-23T15:41:54.587622Z"
    }
   },
   "outputs": [
    {
     "name": "stdout",
     "output_type": "stream",
     "text": [
      "\n",
      "NET BUDGET IMPACT CALCULATION:\n",
      "============================================================\n",
      "Total program costs:              $1139.4 billion\n",
      "Total revenue/savings:           -$469.1 billion\n",
      "============================================================\n",
      "NET BUDGET IMPACT:                $670.3 billion\n"
     ]
    }
   ],
   "source": [
    "# Calculate totals\n",
    "total_costs = baby_bonus + boost_payment + ecpa_child + ecpa_filer + ecpa_adult_dep\n",
    "total_revenue = boost_tax + ctc_savings + eitc_savings\n",
    "net_cost = total_costs - total_revenue\n",
    "\n",
    "print(\"\\nNET BUDGET IMPACT CALCULATION:\")\n",
    "print(\"=\"*60)\n",
    "print(f\"Total program costs:              ${total_costs:.1f} billion\")\n",
    "print(f\"Total revenue/savings:           -${total_revenue:.1f} billion\")\n",
    "print(\"=\"*60)\n",
    "print(f\"NET BUDGET IMPACT:                ${net_cost:.1f} billion\")"
   ]
  },
  {
   "cell_type": "markdown",
   "metadata": {},
   "source": [
    "## Net Costs by Act"
   ]
  },
  {
   "cell_type": "code",
   "execution_count": 5,
   "metadata": {
    "execution": {
     "iopub.execute_input": "2025-09-23T15:41:54.587622Z",
     "iopub.status.busy": "2025-09-23T15:41:54.587622Z",
     "iopub.status.idle": "2025-09-23T15:41:54.595085Z",
     "shell.execute_reply": "2025-09-23T15:41:54.595085Z"
    }
   },
   "outputs": [
    {
     "name": "stdout",
     "output_type": "stream",
     "text": [
      "Net Costs by Act:\n",
      "============================================================\n",
      "Baby Bonus Act:\n",
      "  Gross cost:                     $7.2 billion\n",
      "  Net cost:                       $7.2 billion\n",
      "\n",
      "BOOST Act:\n",
      "  Payments:                       $637.3 billion\n",
      "  Tax revenue:                   -$278.2 billion\n",
      "  Net cost:                       $359.1 billion\n",
      "\n",
      "End Child Poverty Act:\n",
      "  Gross costs:                    $494.9 billion\n",
      "  Less: CTC savings:             -$140.5 billion\n",
      "  Less: EITC savings:            -$50.4 billion\n",
      "  Net cost:                       $303.9 billion\n",
      "============================================================\n",
      "TOTAL NET BUDGET IMPACT:          $670.3 billion\n"
     ]
    }
   ],
   "source": [
    "# Group by the three acts\n",
    "baby_bonus_net = baby_bonus\n",
    "boost_net = boost_payment - boost_tax  \n",
    "ecpa_gross = ecpa_child + ecpa_filer + ecpa_adult_dep\n",
    "ecpa_net = ecpa_gross - ctc_savings - eitc_savings\n",
    "\n",
    "print(\"Net Costs by Act:\")\n",
    "print(\"=\"*60)\n",
    "print(f\"Baby Bonus Act:\")\n",
    "print(f\"  Gross cost:                     ${baby_bonus:.1f} billion\")\n",
    "print(f\"  Net cost:                       ${baby_bonus_net:.1f} billion\")\n",
    "print()\n",
    "print(f\"BOOST Act:\")\n",
    "print(f\"  Payments:                       ${boost_payment:.1f} billion\")\n",
    "print(f\"  Tax revenue:                   -${boost_tax:.1f} billion\")\n",
    "print(f\"  Net cost:                       ${boost_net:.1f} billion\")\n",
    "print()\n",
    "print(f\"End Child Poverty Act:\")\n",
    "print(f\"  Gross costs:                    ${ecpa_gross:.1f} billion\")\n",
    "print(f\"  Less: CTC savings:             -${ctc_savings:.1f} billion\")\n",
    "print(f\"  Less: EITC savings:            -${eitc_savings:.1f} billion\")  \n",
    "print(f\"  Net cost:                       ${ecpa_net:.1f} billion\")\n",
    "print(\"=\"*60)\n",
    "print(f\"TOTAL NET BUDGET IMPACT:          ${net_cost:.1f} billion\")"
   ]
  }
 ],
 "metadata": {
  "kernelspec": {
   "display_name": "Python 3",
   "language": "python",
   "name": "python3"
  },
  "language_info": {
   "codemirror_mode": {
    "name": "ipython",
    "version": 3
   },
   "file_extension": ".py",
   "mimetype": "text/x-python",
   "name": "python",
   "nbconvert_exporter": "python",
   "pygments_lexer": "ipython3",
   "version": "3.11.5"
  }
 },
 "nbformat": 4,
 "nbformat_minor": 4
}
