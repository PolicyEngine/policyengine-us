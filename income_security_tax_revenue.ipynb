{
 "cells": [
  {
   "cell_type": "markdown",
   "metadata": {},
   "source": [
    "# Income Security Package - Federal and State Tax Revenue Analysis"
   ]
  },
  {
   "cell_type": "code",
   "execution_count": null,
   "metadata": {},
   "outputs": [],
   "source": [
    "from policyengine_us import Microsimulation\n",
    "from policyengine_core.reforms import Reform\n",
    "from policyengine_us.reforms.congress.tlaib.income_security_package import income_security_package\n",
    "import pandas as pd"
   ]
  },
  {
   "cell_type": "markdown",
   "metadata": {},
   "source": [
    "## Setup Simulations"
   ]
  },
  {
   "cell_type": "code",
   "execution_count": null,
   "metadata": {},
   "outputs": [],
   "source": "# Federal CTC and EITC\nbaseline_ctc = baseline.calculate(\"ctc\", period=year).sum() / 1e9\nreformed_ctc = reformed.calculate(\"ctc\", period=year).sum() / 1e9\n\nbaseline_eitc = baseline.calculate(\"eitc\", period=year).sum() / 1e9\nreformed_eitc = reformed.calculate(\"eitc\", period=year).sum() / 1e9\n\nprint(\"FEDERAL TAX CREDITS:\")\nprint(\"=\"*60)\nprint(\"Child Tax Credit (CTC):\")\nprint(f\"  Baseline total CTC:             ${baseline_ctc:.1f}B\")\nprint(f\"  Reformed total CTC:             ${reformed_ctc:.1f}B\")\nprint(f\"  Difference:                     ${reformed_ctc - baseline_ctc:.1f}B\")\nprint()\nprint(\"Earned Income Tax Credit (EITC):\")\nprint(f\"  Baseline EITC:                  ${baseline_eitc:.1f}B\")\nprint(f\"  Reformed EITC:                  ${reformed_eitc:.1f}B\") \nprint(f\"  Difference:                     ${reformed_eitc - baseline_eitc:.1f}B\")\n\nif reformed_ctc == baseline_ctc and reformed_eitc == baseline_eitc:\n    print(\"\\n⚠️  CTC and EITC are still being calculated but NOT applied to taxes\")\nelse:\n    print(\"\\n✓ CTC and EITC values have changed\")"
  },
  {
   "cell_type": "markdown",
   "metadata": {},
   "source": [
    "## Federal Tax Credits Analysis"
   ]
  },
  {
   "cell_type": "code",
   "execution_count": null,
   "metadata": {},
   "outputs": [],
   "source": "# Federal income tax (can't break down components due to reform issues)\ntry:\n    baseline_federal_tax = baseline.calculate(\"income_tax\", period=year).sum() / 1e9\n    reformed_federal_tax = reformed.calculate(\"income_tax\", period=year).sum() / 1e9\n    federal_tax_available = True\nexcept:\n    federal_tax_available = False\n    print(\"⚠️  Cannot calculate federal income tax due to reform issues\")\n\n# State income tax\nbaseline_state_tax = baseline.calculate(\"state_income_tax\", period=year).sum() / 1e9\nreformed_state_tax = reformed.calculate(\"state_income_tax\", period=year).sum() / 1e9\n\n# Local income tax  \nbaseline_local_tax = baseline.calculate(\"local_income_tax\", period=year).sum() / 1e9\nreformed_local_tax = reformed.calculate(\"local_income_tax\", period=year).sum() / 1e9\n\n# Payroll taxes\nbaseline_payroll_tax = baseline.calculate(\"employee_payroll_tax\", period=year).sum() / 1e9\nreformed_payroll_tax = reformed.calculate(\"employee_payroll_tax\", period=year).sum() / 1e9\n\nprint(\"TAX REVENUE IMPACTS:\")\nprint(\"=\"*60)\nif federal_tax_available:\n    print(\"Federal Income Tax:\")\n    print(f\"  Baseline:                       ${baseline_federal_tax:.1f}B\")\n    print(f\"  Reformed:                       ${reformed_federal_tax:.1f}B\")\n    print(f\"  Change:                         ${reformed_federal_tax - baseline_federal_tax:.1f}B\")\n    print()\n\nprint(\"State Income Tax:\")\nprint(f\"  Baseline:                       ${baseline_state_tax:.1f}B\")\nprint(f\"  Reformed:                       ${reformed_state_tax:.1f}B\") \nprint(f\"  Change:                         ${reformed_state_tax - baseline_state_tax:.1f}B\")\nprint()\nprint(\"Local Income Tax:\")\nprint(f\"  Baseline:                       ${baseline_local_tax:.1f}B\")\nprint(f\"  Reformed:                       ${reformed_local_tax:.1f}B\")\nprint(f\"  Change:                         ${reformed_local_tax - baseline_local_tax:.1f}B\")\nprint()\nprint(\"Payroll Tax:\")\nprint(f\"  Baseline:                       ${baseline_payroll_tax:.1f}B\")\nprint(f\"  Reformed:                       ${reformed_payroll_tax:.1f}B\")\nprint(f\"  Change:                         ${reformed_payroll_tax - baseline_payroll_tax:.1f}B\")"
  },
  {
   "cell_type": "code",
   "execution_count": null,
   "metadata": {},
   "outputs": [],
   "source": "# Get the BOOST tax specifically\nboost_tax = reformed.calculate(\"boost_tax\", period=year).sum() / 1e9\n\nprint(\"KEY FINDINGS:\")\nprint(\"=\"*60)\nprint(f\"BOOST tax revenue (2% on high earners): ${boost_tax:.1f}B\")\nprint()\n\n# Summary of state/local impacts\nstate_local_change = (reformed_state_tax - baseline_state_tax) + (reformed_local_tax - baseline_local_tax)\nprint(f\"State + Local tax change:               ${state_local_change:.1f}B\")\nprint()\n\nprint(\"State Credit Preservation:\")\nif reformed_state_ctc == baseline_state_ctc and reformed_state_eitc == baseline_state_eitc:\n    print(\"✅ State CTCs: PRESERVED at\", f\"${reformed_state_ctc:.1f}B\")\n    print(\"✅ State EITCs: PRESERVED at\", f\"${reformed_state_eitc:.1f}B\") \n    print(\"\\nThe federal reform does NOT affect state tax credits!\")\nelse:\n    if reformed_state_ctc != baseline_state_ctc:\n        print(f\"⚠️ State CTC changed from ${baseline_state_ctc:.1f}B to ${reformed_state_ctc:.1f}B\")\n    if reformed_state_eitc != baseline_state_eitc:\n        print(f\"⚠️ State EITC changed from ${baseline_state_eitc:.1f}B to ${reformed_state_eitc:.1f}B\")"
  },
  {
   "cell_type": "markdown",
   "metadata": {},
   "source": [
    "## Federal vs State Tax Revenue Impact"
   ]
  },
  {
   "cell_type": "code",
   "execution_count": null,
   "metadata": {},
   "outputs": [],
   "source": [
    "# Federal income tax\n",
    "baseline_federal_tax = baseline.calculate(\"income_tax\", period=year).sum() / 1e9\n",
    "reformed_federal_tax = reformed.calculate(\"income_tax\", period=year).sum() / 1e9\n",
    "\n",
    "# State income tax\n",
    "baseline_state_tax = baseline.calculate(\"state_income_tax\", period=year).sum() / 1e9\n",
    "reformed_state_tax = reformed.calculate(\"state_income_tax\", period=year).sum() / 1e9\n",
    "\n",
    "# Local income tax\n",
    "baseline_local_tax = baseline.calculate(\"local_income_tax\", period=year).sum() / 1e9\n",
    "reformed_local_tax = reformed.calculate(\"local_income_tax\", period=year).sum() / 1e9\n",
    "\n",
    "# Payroll taxes\n",
    "baseline_payroll_tax = baseline.calculate(\"employee_payroll_tax\", period=year).sum() / 1e9\n",
    "reformed_payroll_tax = reformed.calculate(\"employee_payroll_tax\", period=year).sum() / 1e9\n",
    "\n",
    "print(\"TAX REVENUE IMPACTS:\")\n",
    "print(\"=\"*60)\n",
    "print(\"Federal Income Tax:\")\n",
    "print(f\"  Baseline:                       ${baseline_federal_tax:.1f}B\")\n",
    "print(f\"  Reformed:                       ${reformed_federal_tax:.1f}B\")\n",
    "print(f\"  Change:                         ${reformed_federal_tax - baseline_federal_tax:.1f}B\")\n",
    "print()\n",
    "print(\"State Income Tax:\")\n",
    "print(f\"  Baseline:                       ${baseline_state_tax:.1f}B\")\n",
    "print(f\"  Reformed:                       ${reformed_state_tax:.1f}B\") \n",
    "print(f\"  Change:                         ${reformed_state_tax - baseline_state_tax:.1f}B\")\n",
    "print()\n",
    "print(\"Local Income Tax:\")\n",
    "print(f\"  Baseline:                       ${baseline_local_tax:.1f}B\")\n",
    "print(f\"  Reformed:                       ${reformed_local_tax:.1f}B\")\n",
    "print(f\"  Change:                         ${reformed_local_tax - baseline_local_tax:.1f}B\")\n",
    "print()\n",
    "print(\"Payroll Tax:\")\n",
    "print(f\"  Baseline:                       ${baseline_payroll_tax:.1f}B\")\n",
    "print(f\"  Reformed:                       ${reformed_payroll_tax:.1f}B\")\n",
    "print(f\"  Change:                         ${reformed_payroll_tax - baseline_payroll_tax:.1f}B\")"
   ]
  },
  {
   "cell_type": "markdown",
   "metadata": {},
   "source": [
    "## Breakdown of Federal Tax Revenue Changes"
   ]
  },
  {
   "cell_type": "code",
   "execution_count": null,
   "metadata": {},
   "outputs": [],
   "source": [
    "# Get the BOOST tax specifically\n",
    "boost_tax = reformed.calculate(\"boost_tax\", period=year).sum() / 1e9\n",
    "\n",
    "# Federal tax change\n",
    "federal_tax_change = reformed_federal_tax - baseline_federal_tax\n",
    "\n",
    "# Estimate the CTC/EITC effect (should be the change minus BOOST tax)\n",
    "ctc_eitc_effect = federal_tax_change - boost_tax\n",
    "\n",
    "print(\"FEDERAL TAX REVENUE BREAKDOWN:\")\n",
    "print(\"=\"*60)\n",
    "print(f\"Total federal tax change:         ${federal_tax_change:.1f}B\")\n",
    "print()\n",
    "print(\"Components:\")\n",
    "print(f\"  BOOST tax (2% on high earners): ${boost_tax:.1f}B\")\n",
    "print(f\"  CTC/EITC removal effect:        ${ctc_eitc_effect:.1f}B\")\n",
    "print(f\"  Total:                          ${boost_tax + ctc_eitc_effect:.1f}B\")\n",
    "print()\n",
    "\n",
    "if abs(ctc_eitc_effect - (baseline_ctc + baseline_eitc)) < 10:\n",
    "    print(f\"✓ CTC/EITC removal effect (~${ctc_eitc_effect:.1f}B) matches\")\n",
    "    print(f\"  the baseline CTC+EITC values (${baseline_ctc + baseline_eitc:.1f}B)\")\n",
    "else:\n",
    "    print(f\"⚠️  CTC/EITC effect (${ctc_eitc_effect:.1f}B) doesn't match\")\n",
    "    print(f\"  baseline CTC+EITC (${baseline_ctc + baseline_eitc:.1f}B)\")\n",
    "    print(f\"  Difference: ${abs(ctc_eitc_effect - (baseline_ctc + baseline_eitc)):.1f}B\")"
   ]
  },
  {
   "cell_type": "markdown",
   "metadata": {},
   "source": [
    "## Summary of Tax Impacts"
   ]
  },
  {
   "cell_type": "code",
   "execution_count": null,
   "metadata": {},
   "outputs": [],
   "source": [
    "# Create summary\n",
    "print(\"SUMMARY OF TAX IMPACTS:\")\n",
    "print(\"=\"*60)\n",
    "print(\"Federal Level:\")\n",
    "print(f\"  Income tax revenue change:      ${reformed_federal_tax - baseline_federal_tax:.1f}B\")\n",
    "print(f\"    - BOOST tax:                   ${boost_tax:.1f}B\")\n",
    "print(f\"    - CTC/EITC removal:            ${ctc_eitc_effect:.1f}B\")\n",
    "print()\n",
    "print(\"State/Local Level:\")\n",
    "print(f\"  State income tax change:        ${reformed_state_tax - baseline_state_tax:.1f}B\")\n",
    "print(f\"  Local income tax change:        ${reformed_local_tax - baseline_local_tax:.1f}B\")\n",
    "print(f\"  State CTC still claimed:        ${reformed_state_ctc:.1f}B\")\n",
    "print(f\"  State EITC still claimed:       ${reformed_state_eitc:.1f}B\")\n",
    "print()\n",
    "print(\"Total Government Revenue Change:\")\n",
    "total_revenue_change = (reformed_federal_tax - baseline_federal_tax + \n",
    "                        reformed_state_tax - baseline_state_tax + \n",
    "                        reformed_local_tax - baseline_local_tax)\n",
    "print(f\"  All levels:                     ${total_revenue_change:.1f}B\")\n",
    "\n",
    "# Verify state credits preserved\n",
    "print(\"\\n\" + \"=\"*60)\n",
    "if reformed_state_ctc == baseline_state_ctc and reformed_state_eitc == baseline_state_eitc:\n",
    "    print(\"✅ CONFIRMED: State CTCs and EITCs are fully preserved\")\n",
    "    print(\"   The federal reform does NOT affect state tax credits\")\n",
    "else:\n",
    "    print(\"⚠️  WARNING: State credits have changed\")"
   ]
  }
 ],
 "metadata": {
  "kernelspec": {
   "display_name": "Python 3",
   "language": "python",
   "name": "python3"
  },
  "language_info": {
   "codemirror_mode": {
    "name": "ipython",
    "version": 3
   },
   "file_extension": ".py",
   "mimetype": "text/x-python",
   "name": "python",
   "nbconvert_exporter": "python",
   "pygments_lexer": "ipython3"
  }
 },
 "nbformat": 4,
 "nbformat_minor": 4
}