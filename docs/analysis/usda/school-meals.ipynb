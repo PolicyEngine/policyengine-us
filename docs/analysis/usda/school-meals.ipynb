{
 "cells": [
  {
   "cell_type": "markdown",
   "metadata": {},
   "source": [
    "# School meals\n",
    "\n",
    "School meal subsidies comprise the National School Lunch Program (NSLP) and the School Breakfast Program (SBP).\n",
    "Eligibility depends on household size, state, income, and participation in other programs, and assigns children to either a *reduced* or *free* school meal subsidy tier.\n",
    "\n",
    "## Eligibility\n",
    "\n",
    "Children whose families have income below 130 percent of the federal poverty line, or who participate in SNAP, TANF, or the Food Distribution Program on Indian Reservations, are eligible for free breakfast and lunch at school.\n",
    "Children who do not meet these criteria and whose families have income below 185 percent of the federal poverty line are eligible for a reduced school meal subsidy.\n",
    "Other children receive a small meal subsidy from the federal government.\n",
    "\n",
    "## Benefit value\n",
    "\n",
    "We assign the benefit value as the federal reimbursement rates published by USDA.\n",
    "We then multiply this by 180 school days per year.\n",
    "We subtract the subsidy value provided to all children.\n",
    "\n",
    "## Examples\n",
    "\n",
    "### One child\n",
    "\n",
    "Consider a one-adult one-child household in California with \\$1,000 monthly earned income.\n",
    "They would be eligible for \\$74 per month in net school meal subsidies."
   ]
  },
  {
   "cell_type": "code",
   "execution_count": null,
   "metadata": {},
   "outputs": [],
   "source": "from policyengine_us import Simulation\nimport pandas as pd\nimport plotly.express as px\n\n# Create a one-adult, one-child household\nsituation = {\n    \"people\": {\n        \"parent\": {\n            \"employment_income\": {\"2022\": 1000 * 12}\n        },\n        \"child\": {\n            \"age\": {\"2022\": 10},\n            \"is_in_k12_school\": {\"2022\": True}\n        }\n    },\n    \"spm_units\": {\n        \"spm_unit\": {\n            \"members\": [\"parent\", \"child\"],\n            \"snap\": {\"2022\": 0}\n        }\n    },\n    \"households\": {\n        \"household\": {\n            \"members\": [\"parent\", \"child\"],\n            \"state_name\": {\"2022\": \"CA\"}\n        }\n    }\n}\n\nsim = Simulation(situation=situation)\nschool_meal_subsidy = sim.calculate(\"school_meal_net_subsidy\", 2022)[0]\nround(school_meal_subsidy / 12)"
  },
  {
   "cell_type": "markdown",
   "metadata": {},
   "source": [
    "What if their earnings change?\n",
    "They receive the maximum benefit of \\$74 per month until they reach \\$1,880 in monthly earnings, at which point it falls to \\$64 per month until they reach \\$2,690 per month, at which point it falls to \\$0."
   ]
  },
  {
   "cell_type": "code",
   "execution_count": null,
   "metadata": {},
   "outputs": [],
   "source": "# Calculate for different income levels\nresults = []\nfor monthly_income in range(0, 4000, 10):\n    annual_income = monthly_income * 12\n    \n    situation = {\n        \"people\": {\n            \"parent\": {\n                \"employment_income\": {\"2022\": annual_income}\n            },\n            \"child\": {\n                \"age\": {\"2022\": 10},\n                \"is_in_k12_school\": {\"2022\": True}\n            }\n        },\n        \"spm_units\": {\n            \"spm_unit\": {\n                \"members\": [\"parent\", \"child\"],\n                \"snap\": {\"2022\": 0}\n            }\n        },\n        \"households\": {\n            \"household\": {\n                \"members\": [\"parent\", \"child\"],\n                \"state_name\": {\"2022\": \"CA\"}\n            }\n        }\n    }\n    \n    sim = Simulation(situation=situation)\n    subsidy = sim.calculate(\"school_meal_net_subsidy\", 2022)[0]\n    \n    results.append({\n        \"employment_income\": monthly_income,\n        \"school_meal_net_subsidy\": round(subsidy / 12)\n    })\n\ndf = pd.DataFrame(results)\n\nLABELS = dict(\n    employment_income=\"Monthly employment income\",\n    school_meal_net_subsidy=\"Monthly school meal subsidy\",\n    mtr=\"Marginal tax rate\",\n)\n\nfig = px.line(\n    df,\n    \"employment_income\",\n    \"school_meal_net_subsidy\",\n    labels=LABELS,\n    title=\"School meal subsidy for a one-parent one-child household in California\",\n)\nfig.update_layout(xaxis_tickformat=\"$,\", yaxis_tickformat=\"$,\")\nfig.show()"
  }
 ],
 "metadata": {
  "interpreter": {
   "hash": "8dfc7b25af29ff50af05ad7ef5344155df419318e539ca710572e6dd4f9023a3"
  },
  "kernelspec": {
   "display_name": "Python 3 (ipykernel)",
   "language": "python",
   "name": "python3"
  },
  "language_info": {
   "codemirror_mode": {
    "name": "ipython",
    "version": 3
   },
   "file_extension": ".py",
   "mimetype": "text/x-python",
   "name": "python",
   "nbconvert_exporter": "python",
   "pygments_lexer": "ipython3",
   "version": "3.7.11"
  }
 },
 "nbformat": 4,
 "nbformat_minor": 4
}