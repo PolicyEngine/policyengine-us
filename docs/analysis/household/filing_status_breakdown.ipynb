{
 "cells": [
  {
   "cell_type": "code",
   "execution_count": 1,
   "metadata": {},
   "outputs": [],
   "source": [
    "from policyengine_us import Microsimulation\n",
    "\n",
    "s = Microsimulation()\n",
    "filing_status = s.calc(\"filing_status\", period=2024)"
   ]
  },
  {
   "cell_type": "code",
   "execution_count": 2,
   "metadata": {},
   "outputs": [
    {
     "data": {
      "text/plain": [
       "HEAD_OF_HOUSEHOLD     7.437995\n",
       "JOINT                38.684356\n",
       "SINGLE               53.877649\n",
       "dtype: float64"
      ]
     },
     "execution_count": 2,
     "metadata": {},
     "output_type": "execute_result"
    }
   ],
   "source": [
    "100 * filing_status.groupby(filing_status).count() / filing_status.count()"
   ]
  },
  {
   "cell_type": "code",
   "execution_count": 3,
   "metadata": {},
   "outputs": [],
   "source": [
    "agi = s.calc(\"adjusted_gross_income\", period=2022)"
   ]
  },
  {
   "cell_type": "code",
   "execution_count": 4,
   "metadata": {},
   "outputs": [
    {
     "data": {
      "text/plain": [
       "HEAD_OF_HOUSEHOLD     7.786565\n",
       "JOINT                30.984059\n",
       "SEPARATE              1.732441\n",
       "SINGLE               59.163015\n",
       "WIDOW                 0.333920\n",
       "dtype: float64"
      ]
     },
     "execution_count": 4,
     "metadata": {},
     "output_type": "execute_result"
    }
   ],
   "source": [
    "es = Microsimulation(dataset=\"enhanced_cps_2022\")\n",
    "filing_status = es.calc(\"filing_status\", period=2024)\n",
    "100 * filing_status.groupby(filing_status).count() / filing_status.count()"
   ]
  },
  {
   "cell_type": "code",
   "execution_count": null,
   "metadata": {},
   "outputs": [],
   "source": []
  }
 ],
 "metadata": {
  "interpreter": {
   "hash": "f6c9ba0ba91f0693015cf7a073db232538e793cc60920a6621bf7b5e9ac55a05"
  },
  "kernelspec": {
   "display_name": "Python 3.7.11 ('py37')",
   "language": "python",
   "name": "python3"
  },
  "language_info": {
   "codemirror_mode": {
    "name": "ipython",
    "version": 3
   },
   "file_extension": ".py",
   "mimetype": "text/x-python",
   "name": "python",
   "nbconvert_exporter": "python",
   "pygments_lexer": "ipython3",
   "version": "3.9.16"
  }
 },
 "nbformat": 4,
 "nbformat_minor": 4
}
