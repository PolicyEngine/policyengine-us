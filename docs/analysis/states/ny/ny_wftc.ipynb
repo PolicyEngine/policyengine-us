{
 "cells": [
  {
   "cell_type": "code",
   "execution_count": 1,
   "metadata": {},
   "outputs": [],
   "source": [
    "from policyengine_us import Microsimulation\n",
    "from policyengine_core.reforms import Reform"
   ]
  },
  {
   "cell_type": "code",
   "execution_count": 2,
   "metadata": {},
   "outputs": [],
   "source": [
    "reform = Reform.from_dict(\n",
    "    {\"gov.contrib.states.ny.wftc.in_effect\": {\"2024-01-01.2100-12-31\": True}},\n",
    "    country_id=\"us\",\n",
    ")\n",
    "\n",
    "baseline = Microsimulation()\n",
    "baseline_person = baseline.calculate(\n",
    "    \"household_net_income\", period=2024, map_to=\"person\"\n",
    ")"
   ]
  },
  {
   "cell_type": "code",
   "execution_count": 3,
   "metadata": {},
   "outputs": [],
   "source": [
    "reformed = Microsimulation(reform=reform)\n",
    "reformed_person = reformed.calculate(\n",
    "    \"household_net_income\", period=2024, map_to=\"person\"\n",
    ")\n",
    "difference_person = reformed_person - baseline_person"
   ]
  },
  {
   "cell_type": "code",
   "execution_count": 4,
   "metadata": {},
   "outputs": [
    {
     "data": {
      "text/plain": [
       "8344109253.122377"
      ]
     },
     "execution_count": 4,
     "metadata": {},
     "output_type": "execute_result"
    }
   ],
   "source": [
    "difference_person.sum()"
   ]
  },
  {
   "cell_type": "code",
   "execution_count": 5,
   "metadata": {},
   "outputs": [],
   "source": [
    "ny_wftc = reformed.calculate(\n",
    "    \"ny_working_families_tax_credit\", period=2024, map_to=\"person\"\n",
    ")"
   ]
  },
  {
   "cell_type": "code",
   "execution_count": 6,
   "metadata": {},
   "outputs": [
    {
     "data": {
      "text/plain": [
       "9393373105.065252"
      ]
     },
     "execution_count": 6,
     "metadata": {},
     "output_type": "execute_result"
    }
   ],
   "source": [
    "ny_wftc.sum()"
   ]
  },
  {
   "cell_type": "code",
   "execution_count": 7,
   "metadata": {},
   "outputs": [],
   "source": [
    "ny_baseline_credits = baseline.calculate(\n",
    "    \"ny_refundable_credits\", period=2024, map_to=\"household\"\n",
    ")\n",
    "ny_reformed_credits = reformed.calculate(\n",
    "    \"ny_refundable_credits\", period=2024, map_to=\"household\"\n",
    ")"
   ]
  },
  {
   "cell_type": "code",
   "execution_count": 8,
   "metadata": {},
   "outputs": [
    {
     "data": {
      "text/plain": [
       "1796534694.5272126"
      ]
     },
     "execution_count": 8,
     "metadata": {},
     "output_type": "execute_result"
    }
   ],
   "source": [
    "(ny_reformed_credits - ny_baseline_credits).sum()"
   ]
  },
  {
   "cell_type": "code",
   "execution_count": 9,
   "metadata": {},
   "outputs": [],
   "source": [
    "baseline_credits = baseline.calculate(\n",
    "    \"household_refundable_state_tax_credits\", period=2024, map_to=\"household\"\n",
    ")\n",
    "reformed_credits = reformed.calculate(\n",
    "    \"household_refundable_state_tax_credits\", period=2024, map_to=\"household\"\n",
    ")"
   ]
  },
  {
   "cell_type": "code",
   "execution_count": 10,
   "metadata": {},
   "outputs": [
    {
     "data": {
      "text/plain": [
       "1798849006.0801036"
      ]
     },
     "execution_count": 10,
     "metadata": {},
     "output_type": "execute_result"
    }
   ],
   "source": [
    "(reformed_credits - baseline_credits).sum()"
   ]
  },
  {
   "cell_type": "code",
   "execution_count": null,
   "metadata": {},
   "outputs": [],
   "source": []
  }
 ],
 "metadata": {
  "kernelspec": {
   "display_name": "policyengine",
   "language": "python",
   "name": "python3"
  },
  "language_info": {
   "codemirror_mode": {
    "name": "ipython",
    "version": 3
   },
   "file_extension": ".py",
   "mimetype": "text/x-python",
   "name": "python",
   "nbconvert_exporter": "python",
   "pygments_lexer": "ipython3",
   "version": "3.9.16"
  }
 },
 "nbformat": 4,
 "nbformat_minor": 2
}
