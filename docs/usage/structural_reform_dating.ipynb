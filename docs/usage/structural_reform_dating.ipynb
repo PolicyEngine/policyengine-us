{
 "cells": [
  {
   "cell_type": "markdown",
   "metadata": {},
   "source": [
    "# Inputting Dates for Structural Reforms\n",
    "\n",
    "\"Structural\" reforms are those reforms that modify not only set values in the tax-benefit system, but also the formulas used to calculate taxes and benefits. These are typcially larger, more involved reforms that require custom coding.\n",
    "\n",
    "Due to the current limitations of the `Microsimulation` class, a code patch is required when running structural reforms with parameters that begin at any date other than January 1st of the current year. \n",
    "\n",
    "For example, the code cell below illustrates a standard way to instantiating a structural reform, without the patch, when simulating in 2024:"
   ]
  },
  {
   "cell_type": "code",
   "execution_count": 1,
   "metadata": {},
   "outputs": [
    {
     "name": "stderr",
     "output_type": "stream",
     "text": [
      "/opt/miniconda3/envs/us-3.11/lib/python3.11/site-packages/tqdm/auto.py:21: TqdmWarning: IProgress not found. Please update jupyter and ipywidgets. See https://ipywidgets.readthedocs.io/en/stable/user_install.html\n",
      "  from .autonotebook import tqdm as notebook_tqdm\n"
     ]
    },
    {
     "name": "stdout",
     "output_type": "stream",
     "text": [
      "Diff: -2605373719.2974854\n"
     ]
    }
   ],
   "source": [
    "from policyengine_us import Microsimulation\n",
    "from policyengine_core.reforms import Reform\n",
    "\n",
    "reform_1 = Reform.from_dict(\n",
    "    {\n",
    "        \"gov.contrib.salt_phase_out.in_effect\": {\n",
    "            \"2024-01-01.2100-12-31\": True\n",
    "        },\n",
    "        \"gov.contrib.salt_phase_out.rate.joint[1].rate\": {\n",
    "            \"2024-01-01.2100-12-31\": 0.001\n",
    "        },\n",
    "        \"gov.contrib.salt_phase_out.rate.joint[1].threshold\": {\n",
    "            \"2024-01-01.2100-12-31\": 200000\n",
    "        },\n",
    "        \"gov.contrib.salt_phase_out.rate.other[1].rate\": {\n",
    "            \"2024-01-01.2100-12-31\": 0.001\n",
    "        },\n",
    "        \"gov.contrib.salt_phase_out.rate.other[1].threshold\": {\n",
    "            \"2024-01-01.2100-12-31\": 400000\n",
    "        },\n",
    "    },\n",
    "    country_id=\"us\",\n",
    ")\n",
    "\n",
    "\n",
    "baseline_sim_1 = Microsimulation()\n",
    "reformed_sim_1 = Microsimulation(reform=reform_1)\n",
    "baseline_salt_1 = baseline_sim_1.calculate(\"salt_deduction\", period=2026)\n",
    "reformed_salt_1 = reformed_sim_1.calculate(\"salt_deduction\", period=2026)\n",
    "print(f\"Diff: {reformed_salt_1.sum() - baseline_salt_1.sum()}\")"
   ]
  },
  {
   "cell_type": "markdown",
   "metadata": {},
   "source": [
    "The cell below shows a series of reforms that begin in 2026, later than the current year. To effectively handle this case, we need to add an argument to the `Microsimulation` classes that we call. \n",
    "\n",
    "This argument, called `start_instant`, should be set to the same date as the start of the reforms, in ISO date format. In the case of the example below, this is `2026-01-01`, so our altered call to `Microsimulation` looks like:\n",
    "\n",
    "```\n",
    "baseline_sim_2 = Microsimulation(start_instant=\"2026-01-01\")\n",
    "reformed_sim_2 = Microsimulation(reform=reform_2, start_instant=\"2026-01-01\")\n",
    "```"
   ]
  },
  {
   "cell_type": "code",
   "execution_count": 2,
   "metadata": {},
   "outputs": [
    {
     "name": "stdout",
     "output_type": "stream",
     "text": [
      "Diff: -2605373719.2974854\n"
     ]
    }
   ],
   "source": [
    "from policyengine_us import Microsimulation\n",
    "from policyengine_core.reforms import Reform\n",
    "\n",
    "reform_2 = Reform.from_dict(\n",
    "    {\n",
    "        \"gov.contrib.salt_phase_out.in_effect\": {\n",
    "            \"2026-01-01.2100-12-31\": True\n",
    "        },\n",
    "        \"gov.contrib.salt_phase_out.rate.joint[1].rate\": {\n",
    "            \"2026-01-01.2100-12-31\": 0.001\n",
    "        },\n",
    "        \"gov.contrib.salt_phase_out.rate.joint[1].threshold\": {\n",
    "            \"2026-01-01.2100-12-31\": 200000\n",
    "        },\n",
    "        \"gov.contrib.salt_phase_out.rate.other[1].rate\": {\n",
    "            \"2026-01-01.2100-12-31\": 0.001\n",
    "        },\n",
    "        \"gov.contrib.salt_phase_out.rate.other[1].threshold\": {\n",
    "            \"2026-01-01.2100-12-31\": 400000\n",
    "        },\n",
    "    },\n",
    "    country_id=\"us\",\n",
    ")\n",
    "\n",
    "\n",
    "baseline_sim_2 = Microsimulation(start_instant=\"2026-01-01\")\n",
    "reformed_sim_2 = Microsimulation(reform=reform_2, start_instant=\"2026-01-01\")\n",
    "baseline_salt_2 = baseline_sim_2.calculate(\"salt_deduction\", period=2026)\n",
    "reformed_salt_2 = reformed_sim_2.calculate(\"salt_deduction\", period=2026)\n",
    "print(f\"Diff: {reformed_salt_2.sum() - baseline_salt_2.sum()}\")"
   ]
  }
 ],
 "metadata": {
  "kernelspec": {
   "display_name": "us-3.11",
   "language": "python",
   "name": "python3"
  },
  "language_info": {
   "codemirror_mode": {
    "name": "ipython",
    "version": 3
   },
   "file_extension": ".py",
   "mimetype": "text/x-python",
   "name": "python",
   "nbconvert_exporter": "python",
   "pygments_lexer": "ipython3",
   "version": "3.11.10"
  }
 },
 "nbformat": 4,
 "nbformat_minor": 2
}
