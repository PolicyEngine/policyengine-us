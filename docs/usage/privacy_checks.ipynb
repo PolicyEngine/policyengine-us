{
 "cells": [
  {
   "cell_type": "markdown",
   "metadata": {},
   "source": [
    "## PUF privacy checks\n",
    "\n",
    "This notebook checks that no PUF-identifying records are in the Enhanced CPS."
   ]
  },
  {
   "cell_type": "code",
   "execution_count": 3,
   "metadata": {},
   "outputs": [],
   "source": [
    "from policyengine_us import Microsimulation\n",
    "\n",
    "sim = Microsimulation(dataset=\"enhanced_cps_2022\")"
   ]
  },
  {
   "cell_type": "code",
   "execution_count": 4,
   "metadata": {},
   "outputs": [],
   "source": [
    "from policyengine_us.data.datasets.cps.enhanced_cps.process_puf import FINANCIAL_SUBSET, load_puf, uprate_puf\n",
    "\n",
    "puf, demographics = load_puf()\n",
    "puf = uprate_puf(puf, 2022)"
   ]
  },
  {
   "cell_type": "code",
   "execution_count": 6,
   "metadata": {},
   "outputs": [],
   "source": [
    "puf = puf[FINANCIAL_SUBSET]\n",
    "ecps = sim.calculate_dataframe(FINANCIAL_SUBSET, map_to=\"tax_unit\")"
   ]
  },
  {
   "cell_type": "code",
   "execution_count": 15,
   "metadata": {},
   "outputs": [
    {
     "name": "stderr",
     "output_type": "stream",
     "text": [
      "Checking for matched records: 100%|██████████| 155312/155312 [14:45<00:00, 175.40it/s]\n"
     ]
    }
   ],
   "source": [
    "from functools import reduce\n",
    "from tqdm import tqdm\n",
    "\n",
    "for i in tqdm(range(len(ecps)), desc=\"Checking for matched records\"):\n",
    "    ecps_record = ecps.iloc[i]\n",
    "    # Check if record is in the PUF by matching columns\n",
    "\n",
    "    puf_records = puf[\n",
    "        reduce(\n",
    "            lambda x, y: x & y,\n",
    "            [puf[col] == ecps_record[col] for col in puf.columns],\n",
    "        )\n",
    "    ]\n",
    "\n",
    "    # Check also that PUF record is unique\n",
    "\n",
    "    puf_record_unique = len(puf_records) == 1\n",
    "\n",
    "    if puf_record_unique:\n",
    "        print(f\"Matched record {i}\")\n"
   ]
  }
 ],
 "metadata": {
  "kernelspec": {
   "display_name": "base",
   "language": "python",
   "name": "python3"
  },
  "language_info": {
   "codemirror_mode": {
    "name": "ipython",
    "version": 3
   },
   "file_extension": ".py",
   "mimetype": "text/x-python",
   "name": "python",
   "nbconvert_exporter": "python",
   "pygments_lexer": "ipython3",
   "version": "3.9.12"
  }
 },
 "nbformat": 4,
 "nbformat_minor": 2
}
