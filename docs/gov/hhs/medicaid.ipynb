{
 "cells": [
  {
   "cell_type": "markdown",
   "id": "be864f23",
   "metadata": {},
   "source": [
    "# Medicaid "
   ]
  },
  {
   "cell_type": "markdown",
   "id": "cdfb7491",
   "metadata": {},
   "source": [
    "## 1  Overview\n",
    "PolicyEngine simulates Medicaid eligibility, enrollment, and spending for every individual in its micro‑simulation population. The model applies statutory and regulatory rules to  household‑level data, assigns each enrollee to a mutually‑exclusive **MACPAC** category, and assigns a per‑capita costs. "
   ]
  },
  {
   "cell_type": "markdown",
   "id": "fc4eb125",
   "metadata": {},
   "source": [
    "## 2  Key Data Inputs\n",
    "| Source | Vintage | Key variables |\n",
    "| --- | --- | --- |\n",
    "| Enhanced CPS ASEC | 2024 micro‑data | `age`, `state`, household income, disability status, SSI receipt |\n",
    "| MACPAC Exhibit 21 | Published Dec 2024 (data year 2022) | Enrollment & per‑capita spending by eligibility group |\n",
    "| MACPAC projections | April 2024 release | National Medicaid spending & enrollment totals |\n",
    "\n",
    "Additional parameters (e.g. **Federal Poverty Guidelines**, FMAP) come from CMS and FNS administrative releases bundled with PolicyEngine."
   ]
  },
  {
   "cell_type": "markdown",
   "id": "66326f98",
   "metadata": {},
   "source": [
    "## 3  Eligibility Determination\n",
    "For each person $p$ in period $t$ (calendar year):\n",
    "\n",
    "1. **Financial test** – compare household *modified income* to the relevant FPL threshold for the individual’s state, age, pregnancy, and parent/caretaker status.\n",
    "2. **Categorical tests**:\n",
    "   - **SSI‑linked** — aged 65+, blind, or meeting SSA disability criteria.\n",
    "   - **Blindness & disability** — uses CPS ASEC disability flags and SSI receipt as a proxy where SRDI data are unavailable.\n",
    "   - **Expansion adult** — aged 19–64 *and* in a Medicaid‑expansion state, income ≤ 138 % FPL, not otherwise mandatory.\n",
    "3. **Residency & immigration filters** — five‑year bar, lawfully‑present exemptions, refugees, etc.\n",
    "\n",
    "The implementation lives in `is_medicaid_eligible` (`policyengine_us/variables/gov/hhs/medicaid/eligibility.py`), which aggregates the sub‑tests and returns a Boolean array."
   ]
  },
  {
   "cell_type": "markdown",
   "id": "77fe5030",
   "metadata": {},
   "source": [
    "## 4  Mapping to MACPAC Eligibility Groups\n",
    "| MACPAC group | PolicyEngine mapping logic |\n",
    "| --- | --- |\n",
    "| **Child** | `age < 19`\n",
    "| **New adult group** | `is_medicaid_eligible & expansion_state & 19 ≤ age ≤ 64 & not parent/caretaker` |\n",
    "| **Other adult** | Parent/caretaker adults (pre‑ACA mandatory & optional parents) |\n",
    "| **Disabled** | `is_disabled OR receives_ssi` (under 65) |\n",
    "| **Aged** | `age ≥ 65` and not captured above |\n",
    "\n",
    "Each person’s categorical assignment is produced by the `medicaid_group` variable (a fast NumPy `Enum`)."
   ]
  },
  {
   "cell_type": "markdown",
   "id": "1df504d1",
   "metadata": {},
   "source": [
    "## 5  Per‑Capita Cost Parameters\n",
    "MACPAC’s July 2024 release supplies the most recent nationally‑consistent spending per enrollee (FY 2022, **inflated to 2024 dollars** using the CMS price index):\n",
    "\n",
    "| Group | Per‑capita cost (USD, CY 2024) |\n",
    "| --- | ---: |\n",
    "| Child | $3,540 |\n",
    "| New adult | $7,055 |\n",
    "| Other adult | $5,007 |\n",
    "| Disabled | $21,298 |\n",
    "| Aged | $21,298 |\n",
    "\n",
    "_MACPAC reports **Aged** and **Disabled** separately; PolicyEngine combines them for simplicity._\n",
    "\n",
    "The YAML parameter files live under\n",
    "`policyengine_us/parameters/calibration/gov/hhs/medicaid/totals/per_capita/`."
   ]
  },
  {
   "cell_type": "markdown",
   "id": "8af9fd2e",
   "metadata": {},
   "source": [
    "## 6  Simulating Take‑Up and Enrollment\n",
    "Eligibility does **not** guarantee participation. For each eligibility group, PolicyEngine:\n",
    "\n",
    "1. Draws a reproducible pseudo‑random seed `medicaid_take_up_seed`.\n",
    "2. Compares the seed to an externally‑sourced take‑up probability (e.g. 93 % for children, 82 % for disabled adults).\n",
    "\n",
    "This yields a binary flag `is_medicaid_enrolled`, which—together with `medicaid_group`—feeds spending calculations."
   ]
  },
  {
   "cell_type": "markdown",
   "id": "c33bdb80",
   "metadata": {},
   "source": [
    "## 7  Calibration to 2024 National Totals\n",
    "State‑level CMS‑64 data lag by roughly two years, so PolicyEngine calibrates to **national** 2024 aggregates.\n",
    "- **Target**: CMS National Health Expenditure (NHE) projects **$826 billion** in total Medicaid spending for CY 2024.\n",
    "- **Target**: MACPAC reports **72,429,055** full‑benefit enrollees in CY 2024.\n"
   ]
  },
  {
   "cell_type": "markdown",
   "id": "d11c05ee",
   "metadata": {},
   "source": [
    "## 8  Known Limitations & Roadmap\n",
    "- **Long‑term services & supports (LTSS)** – currently embedded in per‑capita costs rather than modeled separately.\n",
    "- **Non‑citizen eligibility complexity** – point‑in‑time CPS immigration variables only approximate five‑year‑bar exceptions.\n",
    "- **Dynamic macro feedback** – behavioral changes (e.g. employer insurance offer) are not yet endogenously simulated.\n",
    "\n",
    "Planned improvements:\n",
    "1. Incorporate CMS‑64 state files on a rolling basis.\n",
    "2. Add person‑level LTSS flags from NHIS."
   ]
  },
  {
   "cell_type": "markdown",
   "id": "b3679956",
   "metadata": {},
   "source": [
    "## 9  References\n",
    "1. MACPAC. **MACStats: Medicaid and CHIP Data Book**, Exhibits 14 & 36. July 2024.\n",
    "2. Centers for Medicare & Medicaid Services. **National Health Expenditure Projections 2024 – 2033**. April 2024.\n",
    "3. U.S. Census Bureau. **Current Population Survey, Annual Social and Economic Supplement (ASEC) 2024**.\n"
   ]
  },
  {
   "cell_type": "markdown",
   "id": "98b71302",
   "metadata": {},
   "source": [
    "> *For an interactive micro‑simulation using these methods, see the [PolicyEngine‑US notebook examples](https://policyengine.org/us/research/enhanced-cps-beta).*"
   ]
  }
 ],
 "metadata": {
  "kernelspec": {
   "display_name": "policyengine",
   "language": "python",
   "name": "python3"
  },
  "language_info": {
   "name": "python",
   "version": "3.10.16"
  }
 },
 "nbformat": 4,
 "nbformat_minor": 5
}
