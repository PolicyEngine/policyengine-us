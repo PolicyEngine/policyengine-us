{
 "cells": [
  {
   "cell_type": "code",
   "execution_count": null,
   "metadata": {
    "vscode": {
     "languageId": "plaintext"
    }
   },
   "outputs": [],
   "source": [
    "import requests\n",
    "from bs4 import BeautifulSoup\n",
    "import yaml\n",
    "\n",
    "# URLs for different years\n",
    "urls = {\n",
    "    \"2021-01-01\": \"https://web.archive.org/web/20220508102639/https://www.irs.gov/instructions/i1040sca\",\n",
    "    \"2022-01-01\": \"https://web.archive.org/web/20230526201403/https://www.irs.gov/instructions/i1040sca\",\n",
    "    \"2023-01-01\": \"https://web.archive.org/web/20240406111850/https://www.irs.gov/instructions/i1040sca\",\n",
    "    \"2024-01-01\": \"https://www.irs.gov/instructions/i1040sca#en_US_2023_publink10005349\"\n",
    "}\n",
    "\n",
    "# State abbreviations\n",
    "state_abbreviations = {\n",
    "    \"Alabama\": \"AL\", \"Alaska\": \"AK\", \"Arizona\": \"AZ\", \"Arkansas\": \"AR\", \"California\": \"CA\",\n",
    "    \"Colorado\": \"CO\", \"Connecticut\": \"CT\", \"Delaware\": \"DE\", \"Florida\": \"FL\", \"Georgia\": \"GA\",\n",
    "    \"Hawaii\": \"HI\", \"Idaho\": \"ID\", \"Illinois\": \"IL\", \"Indiana\": \"IN\", \"Iowa\": \"IA\", \"Kansas\": \"KS\",\n",
    "    \"Kentucky\": \"KY\", \"Louisiana\": \"LA\", \"Maine\": \"ME\", \"Maryland\": \"MD\", \"Massachusetts\": \"MA\",\n",
    "    \"Michigan\": \"MI\", \"Minnesota\": \"MN\", \"Mississippi\": \"MS\", \"Missouri\": \"MO\", \"Montana\": \"MT\",\n",
    "    \"Nebraska\": \"NE\", \"Nevada\": \"NV\", \"New Hampshire\": \"NH\", \"New Jersey\": \"NJ\",\n",
    "    \"New Mexico\": \"NM\", \"New York\": \"NY\", \"North Carolina\": \"NC\", \"North Dakota\": \"ND\",\n",
    "    \"Ohio\": \"OH\", \"Oklahoma\": \"OK\", \"Oregon\": \"OR\", \"Pennsylvania\": \"PA\", \"Rhode Island\": \"RI\",\n",
    "    \"South Carolina\": \"SC\", \"South Dakota\": \"SD\", \"Tennessee\": \"TN\", \"Texas\": \"TX\", \"Utah\": \"UT\",\n",
    "    \"Vermont\": \"VT\", \"Virginia\": \"VA\", \"Washington\": \"WA\", \"West Virginia\": \"WV\",\n",
    "    \"Wisconsin\": \"WI\", \"Wyoming\": \"WY\", \"District of Columbia\": \"DC\"\n",
    "}\n",
    "\n",
    "# Income brackets for YAML formatting\n",
    "income_brackets = [\"1\", \"2\", \"3\", \"4\", \"5\", \"6\", \"7\", \"8\", \"9\", \"10\", \"11\", \"12\", \"13\", \"14\", \"15\", \"16\", \"17\", \"18\", \"19\"]\n",
    "\n",
    "# Helper function to format numbers\n",
    "def format_number_with_underscores(num_str):\n",
    "    try:\n",
    "        num = int(num_str.replace(\",\", \"\"))  # Remove commas before conversion\n",
    "        return f\"{num:_}\"  # Format with underscores\n",
    "    except ValueError:\n",
    "        return num_str  # Return original string if conversion fails"
   ]
  },
  {
   "cell_type": "code",
   "execution_count": null,
   "metadata": {
    "vscode": {
     "languageId": "plaintext"
    }
   },
   "outputs": [],
   "source": [
    "# Dictionary to store combined state data\n",
    "state_data_combined = {}\n",
    "\n",
    "for year, url in urls.items():\n",
    "    response = requests.get(url)\n",
    "    soup = BeautifulSoup(response.text, 'html.parser')\n",
    "\n",
    "    # Locate the table containing tax data\n",
    "    table = soup.find('div', {'class': 'table-contents'})\n",
    "    rows = table.find_all('tr') if table else []\n",
    "\n",
    "    data = []\n",
    "    for row in rows:\n",
    "        cells = row.find_all(['td', 'th'])\n",
    "        data.append([cell.get_text(strip=True) for cell in cells])\n",
    "\n",
    "    # Remove header rows\n",
    "    del data[0:2]\n",
    "\n",
    "    # Determine how many lists can be split (each set contains 20 rows)\n",
    "    num_lists = len(data) // 20\n",
    "\n",
    "    for i in range(num_lists):\n",
    "        start_index = i * 20\n",
    "        end_index = start_index + 20\n",
    "        state_data = data[start_index:end_index]\n",
    "\n",
    "        # Extract state names from first row\n",
    "        states = state_data[0][1::3]  # Every 3rd column holds a state name\n",
    "\n",
    "        for m, state in enumerate(states):\n",
    "            state_abbr = state_abbreviations.get(state, state)  # Convert to abbreviation\n",
    "\n",
    "            if state_abbr not in state_data_combined:\n",
    "                state_data_combined[state_abbr] = {m+1: {} for m in range(6)}\n",
    "\n",
    "            # Determine the number of rows to process\n",
    "            num_rows = 19 if len(state_data) > 19 else len(state_data) - 1\n",
    "\n",
    "            for j in range(num_rows):  # 19 data rows for regular states, adjust for Wyoming if needed\n",
    "                for k in range(6):  # 6 categories per state\n",
    "                    col_index = (m * 3) + 2 + k  # Determine the correct column index\n",
    "\n",
    "                    # Special case: Wyoming (last section) may not follow the 3-column pattern\n",
    "                    if state_abbr == \"WY\":\n",
    "                        col_index = 2 + k  # Wyoming starts at column 2, not part of grouped states\n",
    "\n",
    "                    if col_index >= len(state_data[j+1]):  # Prevent out-of-range errors\n",
    "                        continue\n",
    "\n",
    "                    if year not in state_data_combined[state_abbr][k+1]:\n",
    "                        state_data_combined[state_abbr][k+1][year] = []\n",
    "\n",
    "                    state_data_combined[state_abbr][k+1][year].append(\n",
    "                        format_number_with_underscores(state_data[j+1][col_index])\n",
    "                    )\n",
    "            # Stop processing after Wyoming data\n",
    "            if state_abbr == \"WY\":\n",
    "                break\n",
    "\n",
    "# Alaska residents do not have a state sales tax\n",
    "if \"AK\" not in state_data_combined:\n",
    "    state_data_combined[\"AK\"] = {i+1: {year: [\"0\"] * 19 for year in urls.keys()} for i in range(6)}\n"
   ]
  },
  {
   "cell_type": "code",
   "execution_count": null,
   "metadata": {
    "vscode": {
     "languageId": "plaintext"
    }
   },
   "outputs": [],
   "source": [
    "# Format data for YAML\n",
    "formatted_state_dicts = {}\n",
    "for state, family_data in state_data_combined.items():\n",
    "    formatted_state_dicts[state] = {}\n",
    "    for family_size, tax_data in family_data.items():\n",
    "        formatted_state_dicts[state][int(family_size)] = {\n",
    "            income_brackets[i]: {\n",
    "                year: tax_data[year][i] if year in tax_data else None\n",
    "                for year in urls.keys()\n",
    "            }\n",
    "            for i in range(len(income_brackets))\n",
    "        }\n",
    "\n",
    "# Generate YAML output\n",
    "yaml_output = yaml.dump(\n",
    "    formatted_state_dicts,\n",
    "    sort_keys=False,\n",
    "    default_flow_style=False\n",
    ").replace(\"'\", \"\")\n",
    "\n",
    "# Print YAML\n",
    "print(yaml_output)"
   ]
  }
 ],
 "metadata": {
  "language_info": {
   "name": "python"
  }
 },
 "nbformat": 4,
 "nbformat_minor": 2
}
