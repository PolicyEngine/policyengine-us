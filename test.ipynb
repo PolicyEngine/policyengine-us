{
 "cells": [
  {
   "cell_type": "code",
   "execution_count": 1,
   "id": "b6b68936",
   "metadata": {},
   "outputs": [
    {
     "name": "stderr",
     "output_type": "stream",
     "text": [
      "/Users/pavelmakarchuk/anaconda3/envs/pe/lib/python3.10/site-packages/tqdm/auto.py:21: TqdmWarning: IProgress not found. Please update jupyter and ipywidgets. See https://ipywidgets.readthedocs.io/en/stable/user_install.html\n",
      "  from .autonotebook import tqdm as notebook_tqdm\n"
     ]
    }
   ],
   "source": [
    "from policyengine_us import Microsimulation\n",
    "from policyengine_core.reforms import Reform"
   ]
  },
  {
   "cell_type": "code",
   "execution_count": 2,
   "id": "ff9a0dcd",
   "metadata": {},
   "outputs": [],
   "source": [
    "reform = Reform.from_dict(\n",
    "    {\n",
    "        \"gov.simulation.labor_supply_responses.elasticities.income\": {\n",
    "            \"2024-01-01.2100-12-31\": -0.05\n",
    "        },\n",
    "        \"gov.simulation.labor_supply_responses.elasticities.substitution.by_position_and_decile.primary.1\": {\n",
    "            \"2024-01-01.2100-12-31\": 0.31\n",
    "        },\n",
    "        \"gov.simulation.labor_supply_responses.elasticities.substitution.by_position_and_decile.primary.2\": {\n",
    "            \"2024-01-01.2100-12-31\": 0.28\n",
    "        },\n",
    "        \"gov.simulation.labor_supply_responses.elasticities.substitution.by_position_and_decile.primary.3\": {\n",
    "            \"2024-01-01.2100-12-31\": 0.27\n",
    "        },\n",
    "        \"gov.simulation.labor_supply_responses.elasticities.substitution.by_position_and_decile.primary.4\": {\n",
    "            \"2024-01-01.2100-12-31\": 0.27\n",
    "        },\n",
    "        \"gov.simulation.labor_supply_responses.elasticities.substitution.by_position_and_decile.primary.5\": {\n",
    "            \"2024-01-01.2100-12-31\": 0.25\n",
    "        },\n",
    "        \"gov.simulation.labor_supply_responses.elasticities.substitution.by_position_and_decile.primary.6\": {\n",
    "            \"2024-01-01.2100-12-31\": 0.25\n",
    "        },\n",
    "        \"gov.simulation.labor_supply_responses.elasticities.substitution.by_position_and_decile.primary.7\": {\n",
    "            \"2024-01-01.2100-12-31\": 0.22\n",
    "        },\n",
    "        \"gov.simulation.labor_supply_responses.elasticities.substitution.by_position_and_decile.primary.8\": {\n",
    "            \"2024-01-01.2100-12-31\": 0.22\n",
    "        },\n",
    "        \"gov.simulation.labor_supply_responses.elasticities.substitution.by_position_and_decile.primary.9\": {\n",
    "            \"2024-01-01.2100-12-31\": 0.22\n",
    "        },\n",
    "        \"gov.simulation.labor_supply_responses.elasticities.substitution.by_position_and_decile.primary.10\": {\n",
    "            \"2024-01-01.2100-12-31\": 0.22\n",
    "        },\n",
    "        \"gov.simulation.labor_supply_responses.elasticities.substitution.by_position_and_decile.secondary\": {\n",
    "            \"2024-01-01.2100-12-31\": 0.27\n",
    "        },\n",
    "    },\n",
    "    country_id=\"us\",\n",
    ")"
   ]
  },
  {
   "cell_type": "code",
   "execution_count": 3,
   "id": "4625b633",
   "metadata": {},
   "outputs": [],
   "source": [
    "baseline = Microsimulation()\n",
    "reformed = Microsimulation(reform=reform)"
   ]
  },
  {
   "cell_type": "code",
   "execution_count": 4,
   "id": "e8c96c11",
   "metadata": {},
   "outputs": [],
   "source": [
    "baseline_net_income = baseline.calculate(\"household_net_income\", 2026)"
   ]
  },
  {
   "cell_type": "code",
   "execution_count": 5,
   "id": "f4f49f1c",
   "metadata": {},
   "outputs": [
    {
     "name": "stdout",
     "output_type": "stream",
     "text": [
      "               value        weight\n",
      "0      162877.890625   4162.996582\n",
      "1       61252.828125  28454.318359\n",
      "2       46661.312500   1141.180542\n",
      "3      139392.140625    896.701416\n",
      "4      157940.265625  29125.925781\n",
      "...              ...           ...\n",
      "21103  114189.195312      0.134053\n",
      "21104  103111.656250    453.207031\n",
      "21105  138680.609375      0.065192\n",
      "21106  329886.937500  10256.848633\n",
      "21107   69826.101562      0.002878\n",
      "\n",
      "[21108 rows x 2 columns]\n"
     ]
    }
   ],
   "source": [
    "print(baseline_net_income)"
   ]
  },
  {
   "cell_type": "code",
   "execution_count": null,
   "id": "d76c4f6c",
   "metadata": {},
   "outputs": [],
   "source": [
    "reformed_net_income = reformed.calculate(\"household_net_income\", 2026)"
   ]
  },
  {
   "cell_type": "code",
   "execution_count": null,
   "id": "09dea317",
   "metadata": {},
   "outputs": [],
   "source": [
    "print(reformed_net_income)"
   ]
  }
 ],
 "metadata": {
  "kernelspec": {
   "display_name": "pe",
   "language": "python",
   "name": "python3"
  },
  "language_info": {
   "codemirror_mode": {
    "name": "ipython",
    "version": 3
   },
   "file_extension": ".py",
   "mimetype": "text/x-python",
   "name": "python",
   "nbconvert_exporter": "python",
   "pygments_lexer": "ipython3",
   "version": "3.10.14"
  }
 },
 "nbformat": 4,
 "nbformat_minor": 5
}
