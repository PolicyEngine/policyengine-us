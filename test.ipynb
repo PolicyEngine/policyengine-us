{
 "cells": [
  {
   "cell_type": "code",
   "execution_count": 1,
   "id": "84293c77",
   "metadata": {},
   "outputs": [],
   "source": [
    "from policyengine_us import Microsimulation"
   ]
  },
  {
   "cell_type": "code",
   "execution_count": 2,
   "id": "eac30585",
   "metadata": {},
   "outputs": [],
   "source": [
    "baseline = Microsimulation(dataset=\"hf://policyengine/policyengine-us-data/enhanced_cps_2024.h5\")"
   ]
  },
  {
   "cell_type": "code",
   "execution_count": 3,
   "id": "244b5c1f",
   "metadata": {},
   "outputs": [
    {
     "data": {
      "text/plain": [
       "0    1.0\n",
       "1    1.0\n",
       "2    1.0\n",
       "3    1.0\n",
       "4    1.0\n",
       "dtype: float32"
      ]
     },
     "execution_count": 3,
     "metadata": {},
     "output_type": "execute_result"
    }
   ],
   "source": [
    "tax_unit_count = baseline.calc(\"tax_unit_count\", period=2024)\n",
    "tax_unit_count.head()\n"
   ]
  },
  {
   "cell_type": "code",
   "execution_count": 5,
   "id": "cbe17452",
   "metadata": {},
   "outputs": [],
   "source": [
    "tax_unit_mapped =  baseline.calc(\"tax_unit_count\", map_to=\"household\",period=2024)"
   ]
  },
  {
   "cell_type": "code",
   "execution_count": 6,
   "id": "c223d3ba",
   "metadata": {},
   "outputs": [
    {
     "data": {
      "text/plain": [
       "0    1.0\n",
       "1    2.0\n",
       "2    1.0\n",
       "3    1.0\n",
       "4    1.0\n",
       "dtype: float64"
      ]
     },
     "execution_count": 6,
     "metadata": {},
     "output_type": "execute_result"
    }
   ],
   "source": [
    "tax_unit_mapped.head()"
   ]
  },
  {
   "cell_type": "code",
   "execution_count": null,
   "id": "f75ef4ed",
   "metadata": {},
   "outputs": [],
   "source": [
    "weight = "
   ]
  }
 ],
 "metadata": {
  "kernelspec": {
   "display_name": "pe",
   "language": "python",
   "name": "python3"
  },
  "language_info": {
   "codemirror_mode": {
    "name": "ipython",
    "version": 3
   },
   "file_extension": ".py",
   "mimetype": "text/x-python",
   "name": "python",
   "nbconvert_exporter": "python",
   "pygments_lexer": "ipython3",
   "version": "3.10.14"
  }
 },
 "nbformat": 4,
 "nbformat_minor": 5
}
