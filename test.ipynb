{
 "cells": [
  {
   "cell_type": "code",
   "execution_count": 1,
   "id": "b6b68936",
   "metadata": {},
   "outputs": [
    {
     "name": "stderr",
     "output_type": "stream",
     "text": [
      "/Users/pavelmakarchuk/anaconda3/envs/pe/lib/python3.10/site-packages/tqdm/auto.py:21: TqdmWarning: IProgress not found. Please update jupyter and ipywidgets. See https://ipywidgets.readthedocs.io/en/stable/user_install.html\n",
      "  from .autonotebook import tqdm as notebook_tqdm\n"
     ]
    }
   ],
   "source": [
    "from policyengine_us import Microsimulation\n",
    "from policyengine_core.reforms import Reform"
   ]
  },
  {
   "cell_type": "code",
   "execution_count": 2,
   "id": "ff9a0dcd",
   "metadata": {},
   "outputs": [],
   "source": [
    "reform = Reform.from_dict({\n",
    "    \"gov.simulation.labor_supply_responses.elasticities.income\": {\n",
    "        \"2024-01-01.2100-12-31\": -0.05\n",
    "    },\n",
    "    \"gov.simulation.labor_supply_responses.elasticities.substitution.by_position_and_decile.primary.1\": {\n",
    "        \"2024-01-01.2100-12-31\": 0.31\n",
    "    },\n",
    "    \"gov.simulation.labor_supply_responses.elasticities.substitution.by_position_and_decile.primary.2\": {\n",
    "        \"2024-01-01.2100-12-31\": 0.28\n",
    "    },\n",
    "    \"gov.simulation.labor_supply_responses.elasticities.substitution.by_position_and_decile.primary.3\": {\n",
    "        \"2024-01-01.2100-12-31\": 0.27\n",
    "    },\n",
    "    \"gov.simulation.labor_supply_responses.elasticities.substitution.by_position_and_decile.primary.4\": {\n",
    "        \"2024-01-01.2100-12-31\": 0.27\n",
    "    },\n",
    "    \"gov.simulation.labor_supply_responses.elasticities.substitution.by_position_and_decile.primary.5\": {\n",
    "        \"2024-01-01.2100-12-31\": 0.25\n",
    "    },\n",
    "    \"gov.simulation.labor_supply_responses.elasticities.substitution.by_position_and_decile.primary.6\": {\n",
    "        \"2024-01-01.2100-12-31\": 0.25\n",
    "    },\n",
    "    \"gov.simulation.labor_supply_responses.elasticities.substitution.by_position_and_decile.primary.7\": {\n",
    "        \"2024-01-01.2100-12-31\": 0.22\n",
    "    },\n",
    "    \"gov.simulation.labor_supply_responses.elasticities.substitution.by_position_and_decile.primary.8\": {\n",
    "        \"2024-01-01.2100-12-31\": 0.22\n",
    "    },\n",
    "    \"gov.simulation.labor_supply_responses.elasticities.substitution.by_position_and_decile.primary.9\": {\n",
    "        \"2024-01-01.2100-12-31\": 0.22\n",
    "    },\n",
    "    \"gov.simulation.labor_supply_responses.elasticities.substitution.by_position_and_decile.primary.10\": {\n",
    "        \"2024-01-01.2100-12-31\": 0.22\n",
    "    },\n",
    "    \"gov.simulation.labor_supply_responses.elasticities.substitution.by_position_and_decile.secondary\": {\n",
    "        \"2024-01-01.2100-12-31\": 0.27\n",
    "    },\n",
    "},\n",
    "country_id=\"us\"\n",
    ")"
   ]
  },
  {
   "cell_type": "code",
   "execution_count": 3,
   "id": "4625b633",
   "metadata": {},
   "outputs": [],
   "source": [
    "baseline = Microsimulation()\n",
    "reformed = Microsimulation(reform=reform)"
   ]
  },
  {
   "cell_type": "code",
   "execution_count": 4,
   "id": "e8c96c11",
   "metadata": {},
   "outputs": [],
   "source": [
    "baseline_net_income = baseline.calculate(\"household_net_income\")\n"
   ]
  },
  {
   "cell_type": "code",
   "execution_count": 5,
   "id": "f4f49f1c",
   "metadata": {},
   "outputs": [
    {
     "name": "stdout",
     "output_type": "stream",
     "text": [
      "               value        weight\n",
      "0      142370.453125   4095.453369\n",
      "1       57417.761719  27992.656250\n",
      "2       43975.804688   1122.665283\n",
      "3      130987.804688    882.152710\n",
      "4      129959.000000  28653.367188\n",
      "...              ...           ...\n",
      "21103  105728.492188      0.131878\n",
      "21104  106068.796875    445.853912\n",
      "21105   72925.476562      0.064135\n",
      "21106  294985.687500  10090.434570\n",
      "21107   49588.898438      0.002831\n",
      "\n",
      "[21108 rows x 2 columns]\n"
     ]
    }
   ],
   "source": [
    "print(baseline_net_income)\n"
   ]
  },
  {
   "cell_type": "code",
   "execution_count": null,
   "id": "d76c4f6c",
   "metadata": {},
   "outputs": [],
   "source": [
    "reformed_net_income = reformed.calculate(\"household_net_income\")"
   ]
  },
  {
   "cell_type": "code",
   "execution_count": null,
   "id": "09dea317",
   "metadata": {},
   "outputs": [],
   "source": [
    "print(reformed_net_income)"
   ]
  }
 ],
 "metadata": {
  "kernelspec": {
   "display_name": "pe",
   "language": "python",
   "name": "python3"
  },
  "language_info": {
   "codemirror_mode": {
    "name": "ipython",
    "version": 3
   },
   "file_extension": ".py",
   "mimetype": "text/x-python",
   "name": "python",
   "nbconvert_exporter": "python",
   "pygments_lexer": "ipython3",
   "version": "3.10.14"
  }
 },
 "nbformat": 4,
 "nbformat_minor": 5
}
