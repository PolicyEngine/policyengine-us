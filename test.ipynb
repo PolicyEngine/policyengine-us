{
 "cells": [
  {
   "cell_type": "code",
   "execution_count": null,
   "id": "361df4c9",
   "metadata": {},
   "outputs": [],
   "source": [
    "from policyengine_us import Microsimulation\n",
    "from policyengine_core.reforms import Reform\n",
    "\n",
    "reform = Reform.from_dict({\n",
    "  \"gov.contrib.ctc.per_child_phase_out.in_effect\": {\n",
    "    \"2025-01-01.2100-12-31\": True\n",
    "  }\n",
    "}, country_id=\"us\")\n",
    "\n",
    "\n",
    "baseline = Microsimulation()\n",
    "reformed = Microsimulation(reform=reform)\n",
    "baseline_income = baseline.calculate(\"household_net_income\", period=2025)\n",
    "reformed_income = reformed.calculate(\"household_net_income\", period=2025)\n",
    "difference_income = reformed_income - baseline_income"
   ]
  },
  {
   "cell_type": "code",
   "execution_count": 4,
   "id": "56d95b63",
   "metadata": {},
   "outputs": [
    {
     "data": {
      "text/plain": [
       "np.float64(394958140.11687356)"
      ]
     },
     "execution_count": 4,
     "metadata": {},
     "output_type": "execute_result"
    }
   ],
   "source": [
    "difference_income.sum()\n"
   ]
  },
  {
   "cell_type": "code",
   "execution_count": null,
   "id": "56fe2d0f",
   "metadata": {},
   "outputs": [],
   "source": []
  }
 ],
 "metadata": {
  "kernelspec": {
   "display_name": "pe",
   "language": "python",
   "name": "python3"
  },
  "language_info": {
   "codemirror_mode": {
    "name": "ipython",
    "version": 3
   },
   "file_extension": ".py",
   "mimetype": "text/x-python",
   "name": "python",
   "nbconvert_exporter": "python",
   "pygments_lexer": "ipython3",
   "version": "3.10.14"
  }
 },
 "nbformat": 4,
 "nbformat_minor": 5
}
